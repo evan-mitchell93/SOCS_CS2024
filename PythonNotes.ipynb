{
 "cells": [
  {
   "cell_type": "markdown",
   "id": "d0de7906-9654-4a8b-a29a-abe00dc0be81",
   "metadata": {},
   "source": [
    "Steps in Program Design/Implementation\n",
    "\n",
    "1.)Understand the problem\n",
    "    What is being asked of you\n",
    "    What does the user actually want\n",
    "\n",
    "2.) Design the Solution\n",
    "    What inputs/outputs do you need what type\n",
    "    Algorithms used to solve the problem\n",
    "    \n",
    "3.) Translate the design to code\n",
    "    (Most of our work in class)\n",
    "    Programs are sets of instructions to tell the computer how to solve a problem\n",
    "\n",
    "4.) Test and Debug\n",
    "    Always test your code for every problem"
   ]
  },
  {
   "cell_type": "code",
   "execution_count": null,
   "id": "6ef58198-af15-4519-9e34-58cac1f4dedb",
   "metadata": {},
   "outputs": [],
   "source": [
    "#A comment is text that is not interpreted or compiled into an instruction\n",
    "#Used for documentation for yourself or other programmers to read.\n"
   ]
  },
  {
   "cell_type": "code",
   "execution_count": 1,
   "id": "eaca17cf-6412-4798-b8e8-0a7a8394a3f5",
   "metadata": {},
   "outputs": [
    {
     "name": "stdout",
     "output_type": "stream",
     "text": [
      "Hello\n"
     ]
    }
   ],
   "source": [
    "print(\"Hello\")"
   ]
  },
  {
   "cell_type": "code",
   "execution_count": 2,
   "id": "9476d860-be14-4423-93e2-913f8d9a4e2c",
   "metadata": {},
   "outputs": [
    {
     "ename": "SyntaxError",
     "evalue": "incomplete input (3574772742.py, line 2)",
     "output_type": "error",
     "traceback": [
      "\u001b[1;36m  Cell \u001b[1;32mIn[2], line 2\u001b[1;36m\u001b[0m\n\u001b[1;33m    print(\"Hello\"\u001b[0m\n\u001b[1;37m                 ^\u001b[0m\n\u001b[1;31mSyntaxError\u001b[0m\u001b[1;31m:\u001b[0m incomplete input\n"
     ]
    }
   ],
   "source": [
    "#Syntax errors\n",
    "print(\"Hello\""
   ]
  },
  {
   "cell_type": "code",
   "execution_count": 4,
   "id": "a5a15194-096d-43da-83b1-ed5d360909e8",
   "metadata": {},
   "outputs": [],
   "source": [
    "#Logical error\n"
   ]
  },
  {
   "cell_type": "code",
   "execution_count": 15,
   "id": "51a0c3ee-8e2d-46cb-9425-c2248ba09d3d",
   "metadata": {},
   "outputs": [
    {
     "data": {
      "text/plain": [
       "1"
      ]
     },
     "execution_count": 15,
     "metadata": {},
     "output_type": "execute_result"
    }
   ],
   "source": [
    "#Operators for Math\n",
    "3 + 4 # Works like normal addition\n",
    "4 - 3 #Normal subtraction\n",
    "4 * 3 # Multiplication\n",
    "2 ** 3 #Exponents\n",
    "3 // 2 #Int division truncates decimal place\n",
    "3 / 2 #Floating point division\n",
    "12 % 1 #Modulus remainder of division\n",
    "3 % 2\n",
    "\n",
    "#Average\n",
    "1 + 2 + 7 / 3 #No good: Logical Error\n",
    "(1 + 2 + 7) / 3"
   ]
  },
  {
   "cell_type": "code",
   "execution_count": 20,
   "id": "8eef2c0e-b869-4330-9e55-ca024f2f917d",
   "metadata": {},
   "outputs": [
    {
     "data": {
      "text/plain": [
       "10"
      ]
     },
     "execution_count": 20,
     "metadata": {},
     "output_type": "execute_result"
    }
   ],
   "source": [
    "#Variables and =\n",
    "x = 3\n",
    "x = 4\n",
    "\n",
    "y = 3\n",
    "\n",
    "x = 2*y + x\n",
    "x"
   ]
  },
  {
   "cell_type": "code",
   "execution_count": null,
   "id": "af1f7763-bd5a-46a8-b436-0fca820ccbb0",
   "metadata": {},
   "outputs": [],
   "source": []
  }
 ],
 "metadata": {
  "kernelspec": {
   "display_name": "Python 3 (ipykernel)",
   "language": "python",
   "name": "python3"
  },
  "language_info": {
   "codemirror_mode": {
    "name": "ipython",
    "version": 3
   },
   "file_extension": ".py",
   "mimetype": "text/x-python",
   "name": "python",
   "nbconvert_exporter": "python",
   "pygments_lexer": "ipython3",
   "version": "3.12.5"
  }
 },
 "nbformat": 4,
 "nbformat_minor": 5
}
